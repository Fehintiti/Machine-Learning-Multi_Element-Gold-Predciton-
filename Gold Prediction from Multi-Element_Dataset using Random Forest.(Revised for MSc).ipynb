{
 "cells": [
  {
   "cell_type": "code",
   "execution_count": 1,
   "id": "6270ecb1",
   "metadata": {},
   "outputs": [],
   "source": [
    "# Import necessary libraries\n",
    "import pandas as pd\n",
    "from sklearn.model_selection import train_test_split, cross_val_score, GridSearchCV\n",
    "from sklearn.metrics import accuracy_score, classification_report, confusion_matrix\n",
    "from sklearn.preprocessing import StandardScaler\n",
    "from sklearn.ensemble import RandomForestClassifier\n",
    "from imblearn.over_sampling import RandomOverSampler\n",
    "from imblearn.under_sampling import RandomUnderSampler\n",
    "from sklearn.pipeline import make_pipeline\n",
    "from joblib import dump"
   ]
  },
  {
   "cell_type": "code",
   "execution_count": 2,
   "id": "48cb2f45",
   "metadata": {},
   "outputs": [],
   "source": [
    "# Load and preprocess data\n",
    "def load_preprocess_data(filepath):\n",
    "    df = pd.read_excel(r\"C:\\Users\\USER\\PYTHON FOR DATASCIENCE UDEMY\\YOUTUBE MACHINE LEARNING PROJECT\\GEO_DATASCIENCE\\Multi -element analysis sheet for Machine Learning.xlsx\")\n",
    "    df.set_index('Sample ID', inplace=True)\n",
    "    df = df.replace('<', '', regex=True)\n",
    "    df = df.drop(['Au_ppm','Lithology'], axis=1)\n",
    "    df = df.replace({'AU_ppm': {'Yes': 1, 'No': 0}})\n",
    "   # dummies = pd.get_dummies(df['Lithology'])\n",
    "   # df = pd.concat([df, dummies], axis=1).drop(['Lithology', 'BMS'], axis=1)\n",
    "    df.rename_axis(None, inplace=True)\n",
    "  \n",
    "    \n",
    "    print(\"DataFrame shape after preprocessing:\", df.shape)\n",
    "    print(\"First few rows of the DataFrame:\", df.head(), \"\\n\")\n",
    "    \n",
    "    return df"
   ]
  },
  {
   "cell_type": "code",
   "execution_count": 3,
   "id": "b0f1417e",
   "metadata": {},
   "outputs": [
    {
     "name": "stdout",
     "output_type": "stream",
     "text": [
      "DataFrame shape after preprocessing: (2020, 36)\n",
      "First few rows of the DataFrame:           AU_ppm Ag_ppm Al_pc As_ppm B_ppm Ba_ppm Be_ppm Bi_ppm Ca_pc Cd_ppm  \\\n",
      "DD005001       0    0.8  2.67      2    27     10    0.5     14  0.01    0.5   \n",
      "DD005002       0    0.2   3.4      2    23     10    0.5     10  0.01    0.5   \n",
      "DD005003       0    0.2  5.36      2    20     10    0.5     11  0.01    0.5   \n",
      "DD005004       0    0.5  3.84      2    18     10    0.6      8  0.01    0.5   \n",
      "DD005005       0    0.2  2.82      2    13     10    0.5      7  0.01    0.5   \n",
      "\n",
      "          ... Sb_ppm Sc_ppm Sr_ppm Th_ppm Ti_pc Tl_ppm V_ppm W_ppm Zn_ppm  \\\n",
      "DD005001  ...      8     50      1      8  0.06     10   803    10     45   \n",
      "DD005002  ...     12     68      1      8  0.05     10  1340    10     40   \n",
      "DD005003  ...      6     77      1      8  0.05     10   995    10     49   \n",
      "DD005004  ...      8     72      1      8  0.07     10   569    10    119   \n",
      "DD005005  ...      6     48      1      8  0.11     10   514    10     74   \n",
      "\n",
      "         Zr_ppm  \n",
      "DD005001     21  \n",
      "DD005002     20  \n",
      "DD005003     18  \n",
      "DD005004     14  \n",
      "DD005005     12  \n",
      "\n",
      "[5 rows x 36 columns] \n",
      "\n"
     ]
    }
   ],
   "source": [
    "df = load_preprocess_data(r\"C:\\Users\\USER\\PYTHON FOR DATASCIENCE UDEMY\\YOUTUBE MACHINE LEARNING PROJECT\\GEO_DATASCIENCE\\Multi -element analysis sheet for Machine Learning.xlsx\")"
   ]
  },
  {
   "cell_type": "code",
   "execution_count": 8,
   "id": "1540a627",
   "metadata": {},
   "outputs": [
    {
     "name": "stdout",
     "output_type": "stream",
     "text": [
      "X shape: (2020, 35)\n",
      "y shape: (2020,)\n"
     ]
    }
   ],
   "source": [
    "# Split data into features and target\n",
    "\n",
    "target = 'AU_ppm'\n",
    "X= df.drop(columns='AU_ppm',axis =1)\n",
    "y =df['AU_ppm']\n",
    "\n",
    "print(\"X shape:\", X.shape)\n",
    "print(\"y shape:\", y.shape)\n",
    "    \n",
    "    "
   ]
  },
  {
   "cell_type": "code",
   "execution_count": 10,
   "id": "2789b2ea",
   "metadata": {
    "scrolled": true
   },
   "outputs": [],
   "source": [
    "from sklearn.decomposition import PCA"
   ]
  },
  {
   "cell_type": "code",
   "execution_count": 11,
   "id": "dafb6ff2",
   "metadata": {},
   "outputs": [
    {
     "name": "stdout",
     "output_type": "stream",
     "text": [
      "Fitting 5 folds for each of 12 candidates, totalling 60 fits\n",
      "Best model accuracy: 93.32%\n",
      "Best parameters: {'randomforestclassifier__max_depth': 30, 'randomforestclassifier__n_estimators': 50}\n"
     ]
    }
   ],
   "source": [
    "\n",
    "   # Split the data into training and test sets\n",
    "X_train, X_test, y_train, y_test = train_test_split(X, y, test_size=0.2, random_state=42)\n",
    "\n",
    "scaler = StandardScaler()\n",
    "pca = PCA(n_components=2)\n",
    "\n",
    "# First, scale the training and test sets\n",
    "X_train_scaled = scaler.fit_transform(X_train)  # Fit and transform the scaler on the training set\n",
    "X_test_scaled = scaler.transform(X_test)        # Only transform the test set with the fitted scaler\n",
    "\n",
    "# Then, apply PCA to the scaled training and test sets\n",
    "X_train_pca = pca.fit_transform(X_train_scaled) # Fit and transform PCA on the scaled training set\n",
    "X_test_pca = pca.transform(X_test_scaled) \n",
    "\n",
    "# Oversampling on the PCA-transformed training data\n",
    "over_sampling = RandomOverSampler(random_state=42)\n",
    "X_train_over, y_train_over = over_sampling.fit_resample(X_train_pca, y_train)\n",
    "\n",
    "# Now, you use X_train_over and y_train_over for training with GridSearchCV\n",
    "pipeline = make_pipeline(StandardScaler(), RandomForestClassifier(random_state=42))\n",
    "param_grid = {\n",
    "    'randomforestclassifier__n_estimators': [25, 50, 75],\n",
    "    'randomforestclassifier__max_depth': [10, 20, 30, None]\n",
    "}\n",
    "\n",
    "model_over = GridSearchCV(pipeline, param_grid=param_grid, cv=5, n_jobs=-1, verbose=1)\n",
    "model_over.fit(X_train_over, y_train_over)\n",
    "\n",
    "# Evaluate the model on the PCA-transformed test set\n",
    "y_pred = model_over.predict(X_test_pca)\n",
    "accuracy = round(accuracy_score(y_test, y_pred) * 100, 2)\n",
    "\n",
    "print(f\"Best model accuracy: {accuracy}%\")\n",
    "print(f\"Best parameters: {model_over.best_params_}\")"
   ]
  },
  {
   "cell_type": "code",
   "execution_count": 20,
   "id": "11d44824",
   "metadata": {},
   "outputs": [
    {
     "name": "stdout",
     "output_type": "stream",
     "text": [
      "              precision    recall  f1-score   support\n",
      "\n",
      "           0       0.96      0.97      0.96       378\n",
      "           1       0.47      0.35      0.40        26\n",
      "\n",
      "    accuracy                           0.93       404\n",
      "   macro avg       0.71      0.66      0.68       404\n",
      "weighted avg       0.92      0.93      0.93       404\n",
      "\n"
     ]
    },
    {
     "data": {
      "image/png": "[encoded data removed]",
      "text/plain": [
       "<Figure size 640x480 with 2 Axes>"
      ]
     },
     "metadata": {},
     "output_type": "display_data"
    }
   ],
   "source": [
    "import matplotlib.pyplot as plt\n",
    "\n",
    "# Printing the classification report\n",
    "print(classification_report(y_test, y_pred))\n",
    "\n",
    "    # Plotting the confusion matrix\n",
    "cm = confusion_matrix(y_test, y_pred)\n",
    "disp = ConfusionMatrixDisplay(confusion_matrix=cm)\n",
    "disp.plot()\n",
    "plt.title('Confusion Matrix')\n",
    "plt.show()"
   ]
  },
  {
   "cell_type": "code",
   "execution_count": null,
   "id": "fdd9b64f",
   "metadata": {},
   "outputs": [],
   "source": []
  },
  {
   "cell_type": "code",
   "execution_count": 23,
   "id": "3fe73d68",
   "metadata": {},
   "outputs": [
    {
     "name": "stdout",
     "output_type": "stream",
     "text": [
      "No gold present\n"
     ]
    },
    {
     "name": "stderr",
     "output_type": "stream",
     "text": [
      "C:\\Users\\USER\\AppData\\Roaming\\Python\\Python311\\site-packages\\sklearn\\base.py:493: UserWarning: X does not have valid feature names, but StandardScaler was fitted with feature names\n",
      "  warnings.warn(\n"
     ]
    }
   ],
   "source": [
    "#Lets Predict new values\n",
    "import numpy as np\n",
    "\n",
    "def make_prediction_with_interpretation(input_values, scaler, pca, model):\n",
    "    \n",
    "    # Convert the input to a 2D array for processing\n",
    "    new_data = np.array(input_values).reshape(1, -1)\n",
    "    \n",
    "    # Apply the previously fitted scaler and PCA\n",
    "    new_data_scaled = scaler.transform(new_data)\n",
    "    new_data_pca = pca.transform(new_data_scaled)\n",
    "    \n",
    "    # Use the trained model to make a prediction\n",
    "    prediction = model.predict(new_data_pca)\n",
    "    \n",
    "    # Interpret the prediction\n",
    "    if prediction == 0:\n",
    "        return \"No gold present\"\n",
    "    else:\n",
    "        return \"Gold present\"\n",
    "\n",
    "# Assuming you've already defined 'scaler', 'pca', and 'model_over' from your trained models\n",
    "\n",
    "input_values = [0.8, 2.67, 2, 27, 10, 0.5, 14, 0.01, 0.5, 7, 902, 78, 20.6, 37, 1, 0.01, 10, 0.02, 119, 2, 0.01, 21, 343, 14, 0.04, 8, 50, 1, 8, 0.06, 10, 803, 10, 45, 21]\n",
    "message = make_prediction_with_interpretation(input_values, scaler, pca, model_over)\n",
    "print(message)"
   ]
  },
  {
   "cell_type": "code",
   "execution_count": 25,
   "id": "68a603de",
   "metadata": {},
   "outputs": [
    {
     "data": {
      "text/plain": [
       "['Ramdom_Gold_model.joblib']"
      ]
     },
     "execution_count": 25,
     "metadata": {},
     "output_type": "execute_result"
    }
   ],
   "source": [
    "from joblib import dump\n",
    "\n",
    "# Save the objects\n",
    "dump(scaler, 'scaler.joblib')\n",
    "dump(pca, 'pca.joblib')\n",
    "dump(model_over, 'Ramdom_Gold_model.joblib')"
   ]
  },
  {
   "cell_type": "code",
   "execution_count": null,
   "id": "3e70722d",
   "metadata": {},
   "outputs": [],
   "source": [
    "from joblib import load\n",
    "import streamlit as st\n",
    "import numpy as np\n",
    "\n",
    "# Load the scaler, PCA, and model\n",
    "scaler = load('scaler.joblib')\n",
    "pca = load('pca.joblib')\n",
    "model_over = load('model_over.joblib')\n",
    "\n",
    "# Streamlit app example\n",
    "st.title('Gold Presence Prediction')\n",
    "\n",
    "# Assuming you're taking input values through Streamlit's input methods\n",
    "# This is a placeholder for where you'd collect or upload new data\n",
    "input_values = st.text_input('Enter values separated by commas:')\n",
    "\n",
    "if st.button('Predict'):\n",
    "    # Process the input values\n",
    "    input_list = list(map(float, input_values.split(',')))\n",
    "    new_data = np.array(input_list).reshape(1, -1)\n",
    "    \n",
    "    # Scale, PCA transform, and predict\n",
    "    new_data_scaled = scaler.transform(new_data)\n",
    "    new_data_pca = pca.transform(new_data_scaled)\n",
    "    prediction = model_over.predict(new_data_pca)\n",
    "    \n",
    "    # Display the prediction\n",
    "    if prediction == 0:\n",
    "        st.write(\"No gold present\")\n",
    "    else:\n",
    "        st.write(\"Gold present\")"
   ]
  },
  {
   "cell_type": "markdown",
   "id": "00b76041",
   "metadata": {},
   "source": [
    "pandas: For data manipulation and analysis.\n",
    "scikit-learn (train_test_split, cross_val_score, GridSearchCV, accuracy_score, classification_report, confusion_matrix, StandardScaler, RandomForestClassifier, PCA): For various stages of the machine learning pipeline including splitting data, cross-validation, model evaluation metrics, preprocessing, and the machine learning model itself.\n",
    "imbalanced-learn (RandomOverSampler, RandomUnderSampler): For handling imbalanced datasets by oversampling the minority class or undersampling the majority class.\n",
    "matplotlib (plt): For creating visualizations, such as plotting the confusion matrix.\n",
    "numpy: For numerical operations on arrays.\n",
    "joblib: For saving and loading the trained machine learning models and preprocessing objects."
   ]
  },
  {
   "cell_type": "code",
   "execution_count": null,
   "id": "09633db6",
   "metadata": {},
   "outputs": [],
   "source": []
  }
 ],
 "metadata": {
  "kernelspec": {
   "display_name": "Python 3 (ipykernel)",
   "language": "python",
   "name": "python3"
  },
  "language_info": {
   "codemirror_mode": {
    "name": "ipython",
    "version": 3
   },
   "file_extension": ".py",
   "mimetype": "text/x-python",
   "name": "python",
   "nbconvert_exporter": "python",
   "pygments_lexer": "ipython3",
   "version": "3.11.5"
  }
 },
 "nbformat": 4,
 "nbformat_minor": 5
}
